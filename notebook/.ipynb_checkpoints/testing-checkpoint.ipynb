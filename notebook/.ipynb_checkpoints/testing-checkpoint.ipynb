{
 "cells": [
  {
   "cell_type": "code",
   "execution_count": 1,
   "id": "251911d3-1d7c-4246-ba7d-a0f08435fcf7",
   "metadata": {},
   "outputs": [],
   "source": [
    "import mlflow\n",
    "import pandas as pd"
   ]
  },
  {
   "cell_type": "code",
   "execution_count": 2,
   "id": "d96b81e2-3153-4622-b26f-b1c5c2e33b1b",
   "metadata": {},
   "outputs": [],
   "source": [
    "mlflow.set_tracking_uri('http://mlflow-web:5000')"
   ]
  },
  {
   "cell_type": "code",
   "execution_count": 3,
   "id": "aaa7a51c-068d-4c19-9066-644a2eea2f5e",
   "metadata": {},
   "outputs": [
    {
     "data": {
      "text/plain": [
       "<Experiment: artifact_location='s3://mlflow/1', creation_time=1735146516751, experiment_id='1', last_update_time=1735146516751, lifecycle_stage='active', name='experiment_diabetes', tags={}>"
      ]
     },
     "execution_count": 3,
     "metadata": {},
     "output_type": "execute_result"
    }
   ],
   "source": [
    "mlflow.set_experiment(\"experiment_diabetes\")"
   ]
  },
  {
   "cell_type": "code",
   "execution_count": 5,
   "id": "0daf690d-6440-4c05-9179-000abd7032ec",
   "metadata": {},
   "outputs": [
    {
     "name": "stderr",
     "output_type": "stream",
     "text": [
      "/opt/conda/lib/python3.11/site-packages/mlflow/store/artifact/utils/models.py:31: FutureWarning: ``mlflow.tracking.client.MlflowClient.get_latest_versions`` is deprecated since 2.9.0. Model registry stages will be removed in a future major release. To learn more about the deprecation of model registry stages, see our migration guide here: https://mlflow.org/docs/latest/model-registry.html#migrating-from-stages\n",
      "  latest = client.get_latest_versions(name, None if stage is None else [stage])\n"
     ]
    },
    {
     "data": {
      "application/vnd.jupyter.widget-view+json": {
       "model_id": "6ddaf270a05f4b928f5e7af754c96cc7",
       "version_major": 2,
       "version_minor": 0
      },
      "text/plain": [
       "Downloading artifacts:   0%|          | 0/5 [00:00<?, ?it/s]"
      ]
     },
     "metadata": {},
     "output_type": "display_data"
    }
   ],
   "source": [
    "# Memuat model dari registry\n",
    "model_uri = \"models:/Diabetes Model Random Forest/latest\"\n",
    "model = mlflow.sklearn.load_model(model_uri)"
   ]
  },
  {
   "cell_type": "code",
   "execution_count": 6,
   "id": "63c17d0d-71a3-4a5f-b2d3-ee0101c3d3d8",
   "metadata": {},
   "outputs": [],
   "source": [
    "data_baru = pd.DataFrame(\n",
    "    {\n",
    "        'Pregnancies':[7],\n",
    "        'Glucose':[90],\n",
    "        'BloodPressure':[63],\n",
    "        'SkinThickness':[23],\n",
    "        'Insulin':[88],\n",
    "        'BMI':[31],\n",
    "        'DiabetesPedigreeFunction':[0.256],\n",
    "        'Age':[40]\n",
    "    }\n",
    ")"
   ]
  },
  {
   "cell_type": "code",
   "execution_count": 7,
   "id": "dfeba8ec-afcf-497b-9c4d-8744c8a4a77d",
   "metadata": {},
   "outputs": [
    {
     "name": "stdout",
     "output_type": "stream",
     "text": [
      "Non-Diabetes\n"
     ]
    }
   ],
   "source": [
    "pred = model.predict(data_baru)\n",
    "if pred == 1:\n",
    "    print('Diabetes')\n",
    "else:\n",
    "    print('Non-Diabetes')"
   ]
  },
  {
   "cell_type": "code",
   "execution_count": null,
   "id": "4d614614-af18-492f-b448-a77bf7d0a28b",
   "metadata": {},
   "outputs": [],
   "source": []
  }
 ],
 "metadata": {
  "kernelspec": {
   "display_name": "Python 3 (ipykernel)",
   "language": "python",
   "name": "python3"
  },
  "language_info": {
   "codemirror_mode": {
    "name": "ipython",
    "version": 3
   },
   "file_extension": ".py",
   "mimetype": "text/x-python",
   "name": "python",
   "nbconvert_exporter": "python",
   "pygments_lexer": "ipython3",
   "version": "3.11.6"
  }
 },
 "nbformat": 4,
 "nbformat_minor": 5
}
